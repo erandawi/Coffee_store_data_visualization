{
 "cells": [
  {
   "cell_type": "markdown",
   "id": "ef867227",
   "metadata": {},
   "source": [
    "## DATA VISUALIZATION WITH PYTHON\n",
    "\n",
    "### Final Assignment\n",
    "\n",
    "#### COADDS222P-017\n"
   ]
  },
  {
   "cell_type": "markdown",
   "id": "48d2c3e8",
   "metadata": {},
   "source": [
    "**1. Interpret the data and the variables**"
   ]
  },
  {
   "cell_type": "code",
   "execution_count": null,
   "id": "bd9f36b1",
   "metadata": {},
   "outputs": [],
   "source": []
  },
  {
   "cell_type": "code",
   "execution_count": 2,
   "id": "116b50ef",
   "metadata": {},
   "outputs": [],
   "source": [
    "import pandas as pd\n",
    "import numpy as np\n",
    "import matplotlib.pyplot as plt"
   ]
  },
  {
   "cell_type": "code",
   "execution_count": 20,
   "id": "62b55905",
   "metadata": {},
   "outputs": [
    {
     "data": {
      "text/html": [
       "<div>\n",
       "<style scoped>\n",
       "    .dataframe tbody tr th:only-of-type {\n",
       "        vertical-align: middle;\n",
       "    }\n",
       "\n",
       "    .dataframe tbody tr th {\n",
       "        vertical-align: top;\n",
       "    }\n",
       "\n",
       "    .dataframe thead th {\n",
       "        text-align: right;\n",
       "    }\n",
       "</style>\n",
       "<table border=\"1\" class=\"dataframe\">\n",
       "  <thead>\n",
       "    <tr style=\"text-align: right;\">\n",
       "      <th></th>\n",
       "      <th>transaction_id</th>\n",
       "      <th>transaction_date</th>\n",
       "      <th>transaction_time</th>\n",
       "      <th>transaction_qty</th>\n",
       "      <th>store_id</th>\n",
       "      <th>store_location</th>\n",
       "      <th>product_id</th>\n",
       "      <th>unit_price</th>\n",
       "      <th>product_category</th>\n",
       "      <th>product_type</th>\n",
       "      <th>product_detail</th>\n",
       "    </tr>\n",
       "  </thead>\n",
       "  <tbody>\n",
       "    <tr>\n",
       "      <th>0</th>\n",
       "      <td>1</td>\n",
       "      <td>1/1/2023</td>\n",
       "      <td>7:06:11</td>\n",
       "      <td>2</td>\n",
       "      <td>5</td>\n",
       "      <td>Lower Manhattan</td>\n",
       "      <td>32</td>\n",
       "      <td>3.0</td>\n",
       "      <td>Coffee</td>\n",
       "      <td>Gourmet brewed coffee</td>\n",
       "      <td>Ethiopia Rg</td>\n",
       "    </tr>\n",
       "    <tr>\n",
       "      <th>1</th>\n",
       "      <td>2</td>\n",
       "      <td>1/1/2023</td>\n",
       "      <td>7:08:56</td>\n",
       "      <td>2</td>\n",
       "      <td>5</td>\n",
       "      <td>Lower Manhattan</td>\n",
       "      <td>57</td>\n",
       "      <td>3.1</td>\n",
       "      <td>Tea</td>\n",
       "      <td>Brewed Chai tea</td>\n",
       "      <td>Spicy Eye Opener Chai Lg</td>\n",
       "    </tr>\n",
       "    <tr>\n",
       "      <th>2</th>\n",
       "      <td>3</td>\n",
       "      <td>1/1/2023</td>\n",
       "      <td>7:14:04</td>\n",
       "      <td>2</td>\n",
       "      <td>5</td>\n",
       "      <td>Lower Manhattan</td>\n",
       "      <td>59</td>\n",
       "      <td>4.5</td>\n",
       "      <td>Drinking Chocolate</td>\n",
       "      <td>Hot chocolate</td>\n",
       "      <td>Dark chocolate Lg</td>\n",
       "    </tr>\n",
       "    <tr>\n",
       "      <th>3</th>\n",
       "      <td>4</td>\n",
       "      <td>1/1/2023</td>\n",
       "      <td>7:20:24</td>\n",
       "      <td>1</td>\n",
       "      <td>5</td>\n",
       "      <td>Lower Manhattan</td>\n",
       "      <td>22</td>\n",
       "      <td>2.0</td>\n",
       "      <td>Coffee</td>\n",
       "      <td>Drip coffee</td>\n",
       "      <td>Our Old Time Diner Blend Sm</td>\n",
       "    </tr>\n",
       "    <tr>\n",
       "      <th>4</th>\n",
       "      <td>5</td>\n",
       "      <td>1/1/2023</td>\n",
       "      <td>7:22:41</td>\n",
       "      <td>2</td>\n",
       "      <td>5</td>\n",
       "      <td>Lower Manhattan</td>\n",
       "      <td>57</td>\n",
       "      <td>3.1</td>\n",
       "      <td>Tea</td>\n",
       "      <td>Brewed Chai tea</td>\n",
       "      <td>Spicy Eye Opener Chai Lg</td>\n",
       "    </tr>\n",
       "  </tbody>\n",
       "</table>\n",
       "</div>"
      ],
      "text/plain": [
       "   transaction_id transaction_date transaction_time  transaction_qty  \\\n",
       "0               1         1/1/2023          7:06:11                2   \n",
       "1               2         1/1/2023          7:08:56                2   \n",
       "2               3         1/1/2023          7:14:04                2   \n",
       "3               4         1/1/2023          7:20:24                1   \n",
       "4               5         1/1/2023          7:22:41                2   \n",
       "\n",
       "   store_id   store_location  product_id  unit_price    product_category  \\\n",
       "0         5  Lower Manhattan          32         3.0              Coffee   \n",
       "1         5  Lower Manhattan          57         3.1                 Tea   \n",
       "2         5  Lower Manhattan          59         4.5  Drinking Chocolate   \n",
       "3         5  Lower Manhattan          22         2.0              Coffee   \n",
       "4         5  Lower Manhattan          57         3.1                 Tea   \n",
       "\n",
       "            product_type               product_detail  \n",
       "0  Gourmet brewed coffee                  Ethiopia Rg  \n",
       "1        Brewed Chai tea     Spicy Eye Opener Chai Lg  \n",
       "2          Hot chocolate            Dark chocolate Lg  \n",
       "3            Drip coffee  Our Old Time Diner Blend Sm  \n",
       "4        Brewed Chai tea     Spicy Eye Opener Chai Lg  "
      ]
     },
     "execution_count": 20,
     "metadata": {},
     "output_type": "execute_result"
    }
   ],
   "source": [
    "coffee_store = pd.read_csv(r\"C:\\Users\\erand\\Documents\\Degree\\Advanced Data Science\\8. Data Visualization with Python\\Assingment 1 Matplotlib\\coffe_shop_clear_data.csv\")\n",
    "coffee_store .head()"
   ]
  },
  {
   "cell_type": "code",
   "execution_count": 21,
   "id": "2bd07fd5",
   "metadata": {},
   "outputs": [
    {
     "data": {
      "text/plain": [
       "(149116, 11)"
      ]
     },
     "execution_count": 21,
     "metadata": {},
     "output_type": "execute_result"
    }
   ],
   "source": [
    "coffee_store.shape"
   ]
  },
  {
   "cell_type": "code",
   "execution_count": 23,
   "id": "34eef856",
   "metadata": {},
   "outputs": [
    {
     "data": {
      "text/html": [
       "<div>\n",
       "<style scoped>\n",
       "    .dataframe tbody tr th:only-of-type {\n",
       "        vertical-align: middle;\n",
       "    }\n",
       "\n",
       "    .dataframe tbody tr th {\n",
       "        vertical-align: top;\n",
       "    }\n",
       "\n",
       "    .dataframe thead th {\n",
       "        text-align: right;\n",
       "    }\n",
       "</style>\n",
       "<table border=\"1\" class=\"dataframe\">\n",
       "  <thead>\n",
       "    <tr style=\"text-align: right;\">\n",
       "      <th></th>\n",
       "      <th>transaction_id</th>\n",
       "      <th>transaction_qty</th>\n",
       "      <th>store_id</th>\n",
       "      <th>product_id</th>\n",
       "      <th>unit_price</th>\n",
       "    </tr>\n",
       "  </thead>\n",
       "  <tbody>\n",
       "    <tr>\n",
       "      <th>count</th>\n",
       "      <td>149116.000000</td>\n",
       "      <td>149116.000000</td>\n",
       "      <td>149116.000000</td>\n",
       "      <td>149116.000000</td>\n",
       "      <td>149116.000000</td>\n",
       "    </tr>\n",
       "    <tr>\n",
       "      <th>mean</th>\n",
       "      <td>74737.371872</td>\n",
       "      <td>1.438276</td>\n",
       "      <td>5.342063</td>\n",
       "      <td>47.918607</td>\n",
       "      <td>3.382219</td>\n",
       "    </tr>\n",
       "    <tr>\n",
       "      <th>std</th>\n",
       "      <td>43153.600016</td>\n",
       "      <td>0.542509</td>\n",
       "      <td>2.074241</td>\n",
       "      <td>17.930020</td>\n",
       "      <td>2.658723</td>\n",
       "    </tr>\n",
       "    <tr>\n",
       "      <th>min</th>\n",
       "      <td>1.000000</td>\n",
       "      <td>1.000000</td>\n",
       "      <td>3.000000</td>\n",
       "      <td>1.000000</td>\n",
       "      <td>0.800000</td>\n",
       "    </tr>\n",
       "    <tr>\n",
       "      <th>25%</th>\n",
       "      <td>37335.750000</td>\n",
       "      <td>1.000000</td>\n",
       "      <td>3.000000</td>\n",
       "      <td>33.000000</td>\n",
       "      <td>2.500000</td>\n",
       "    </tr>\n",
       "    <tr>\n",
       "      <th>50%</th>\n",
       "      <td>74727.500000</td>\n",
       "      <td>1.000000</td>\n",
       "      <td>5.000000</td>\n",
       "      <td>47.000000</td>\n",
       "      <td>3.000000</td>\n",
       "    </tr>\n",
       "    <tr>\n",
       "      <th>75%</th>\n",
       "      <td>112094.250000</td>\n",
       "      <td>2.000000</td>\n",
       "      <td>8.000000</td>\n",
       "      <td>60.000000</td>\n",
       "      <td>3.750000</td>\n",
       "    </tr>\n",
       "    <tr>\n",
       "      <th>max</th>\n",
       "      <td>149456.000000</td>\n",
       "      <td>8.000000</td>\n",
       "      <td>8.000000</td>\n",
       "      <td>87.000000</td>\n",
       "      <td>45.000000</td>\n",
       "    </tr>\n",
       "  </tbody>\n",
       "</table>\n",
       "</div>"
      ],
      "text/plain": [
       "       transaction_id  transaction_qty       store_id     product_id  \\\n",
       "count   149116.000000    149116.000000  149116.000000  149116.000000   \n",
       "mean     74737.371872         1.438276       5.342063      47.918607   \n",
       "std      43153.600016         0.542509       2.074241      17.930020   \n",
       "min          1.000000         1.000000       3.000000       1.000000   \n",
       "25%      37335.750000         1.000000       3.000000      33.000000   \n",
       "50%      74727.500000         1.000000       5.000000      47.000000   \n",
       "75%     112094.250000         2.000000       8.000000      60.000000   \n",
       "max     149456.000000         8.000000       8.000000      87.000000   \n",
       "\n",
       "          unit_price  \n",
       "count  149116.000000  \n",
       "mean        3.382219  \n",
       "std         2.658723  \n",
       "min         0.800000  \n",
       "25%         2.500000  \n",
       "50%         3.000000  \n",
       "75%         3.750000  \n",
       "max        45.000000  "
      ]
     },
     "execution_count": 23,
     "metadata": {},
     "output_type": "execute_result"
    }
   ],
   "source": [
    "coffee_store.describe()"
   ]
  },
  {
   "cell_type": "code",
   "execution_count": 24,
   "id": "3c179472",
   "metadata": {},
   "outputs": [
    {
     "data": {
      "text/plain": [
       "transaction_id        int64\n",
       "transaction_date     object\n",
       "transaction_time     object\n",
       "transaction_qty       int64\n",
       "store_id              int64\n",
       "store_location       object\n",
       "product_id            int64\n",
       "unit_price          float64\n",
       "product_category     object\n",
       "product_type         object\n",
       "product_detail       object\n",
       "dtype: object"
      ]
     },
     "execution_count": 24,
     "metadata": {},
     "output_type": "execute_result"
    }
   ],
   "source": [
    "coffee_store.dtypes"
   ]
  },
  {
   "cell_type": "code",
   "execution_count": 34,
   "id": "9d732e90",
   "metadata": {},
   "outputs": [
    {
     "data": {
      "text/plain": [
       "<matplotlib.collections.PathCollection at 0x239c963fcd0>"
      ]
     },
     "execution_count": 34,
     "metadata": {},
     "output_type": "execute_result"
    },
    {
     "data": {
      "image/png": "[encoded data removed]",
      "text/plain": [
       "<Figure size 640x480 with 1 Axes>"
      ]
     },
     "metadata": {},
     "output_type": "display_data"
    }
   ],
   "source": [
    "plt.scatter(coffee_store['unit_price'] , coffee_store['transaction_qty'])"
   ]
  },
  {
   "cell_type": "code",
   "execution_count": 42,
   "id": "8bdafb93",
   "metadata": {},
   "outputs": [
    {
     "data": {
      "text/plain": [
       "<matplotlib.collections.PathCollection at 0x239cc0f7700>"
      ]
     },
     "execution_count": 42,
     "metadata": {},
     "output_type": "execute_result"
    },
    {
     "data": {
      "image/png": "[encoded data removed]",
      "text/plain": [
       "<Figure size 640x480 with 1 Axes>"
      ]
     },
     "metadata": {},
     "output_type": "display_data"
    }
   ],
   "source": [
    "june = pd.read_csv(r\"C:\\Users\\erand\\Documents\\Degree\\Advanced Data Science\\8. Data Visualization with Python\\Assingment 1 Matplotlib\\coffe_shop_clear_data_june.csv\")\n",
    "plt.scatter(june['transaction_qty'], june['unit_price'])\n"
   ]
  },
  {
   "cell_type": "code",
   "execution_count": 18,
   "id": "256fb1ad",
   "metadata": {},
   "outputs": [],
   "source": []
  },
  {
   "cell_type": "code",
   "execution_count": null,
   "id": "4796b150",
   "metadata": {},
   "outputs": [],
   "source": []
  },
  {
   "cell_type": "code",
   "execution_count": null,
   "id": "55ce5293",
   "metadata": {},
   "outputs": [],
   "source": []
  },
  {
   "cell_type": "code",
   "execution_count": null,
   "id": "25df5491",
   "metadata": {},
   "outputs": [],
   "source": []
  }
 ],
 "metadata": {
  "kernelspec": {
   "display_name": "Python 3 (ipykernel)",
   "language": "python",
   "name": "python3"
  },
  "language_info": {
   "codemirror_mode": {
    "name": "ipython",
    "version": 3
   },
   "file_extension": ".py",
   "mimetype": "text/x-python",
   "name": "python",
   "nbconvert_exporter": "python",
   "pygments_lexer": "ipython3",
   "version": "3.9.13"
  }
 },
 "nbformat": 4,
 "nbformat_minor": 5
}
